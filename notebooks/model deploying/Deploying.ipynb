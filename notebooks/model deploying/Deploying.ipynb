{
 "cells": [
  {
   "cell_type": "markdown",
   "metadata": {},
   "source": [
    "Importing necessary libraries"
   ]
  },
  {
   "cell_type": "code",
   "execution_count": 15,
   "metadata": {},
   "outputs": [],
   "source": [
    "from fastapi import FastAPI\n",
    "from pydantic import BaseModel, ValidationError\n",
    "from pathlib import Path\n",
    "import xgboost as xg\n",
    "import pickle\n",
    "import numpy as np\n",
    "import json"
   ]
  },
  {
   "cell_type": "markdown",
   "metadata": {},
   "source": [
    "Preprocessing data\n"
   ]
  },
  {
   "cell_type": "code",
   "execution_count": 16,
   "metadata": {},
   "outputs": [
    {
     "name": "stdout",
     "output_type": "stream",
     "text": [
      "['house' '2' '1100' '1' '3']\n"
     ]
    }
   ],
   "source": [
    "X_json = {\n",
    "    \"data\": {\n",
    "        \"property_type\": \"house\",\n",
    "        \"floor\": 3,\n",
    "        \"bedrooms_number\": 2,\n",
    "        \"habitable_surface\": 1100,\n",
    "        \"bathroom_number\": 1,\n",
    "        \"condition\": 3\n",
    "    }\n",
    "}\n",
    "\n",
    "def processing(X):\n",
    "    X['data']['property_type'] = X['data']['property_type'].lower()\n",
    "    if not isinstance(X['data']['floor'], int):\n",
    "        print('Check your data. Expected \"floor\" to be an integer.')\n",
    "        return None\n",
    "    \n",
    "    if X['data']['property_type'] == 'apartment':\n",
    "        pass\n",
    "    elif X['data']['property_type'] == 'house':\n",
    "        del X['data']['floor']\n",
    "    else:\n",
    "        print('Check your data. Expected property type House or Apartment.')\n",
    "        return None\n",
    "    \n",
    "    if not isinstance(X['data']['bedrooms_number'], int):\n",
    "        print('Check your data. Expected \"bedrooms_number\" to be an integer.')\n",
    "        return None\n",
    "    \n",
    "    if not isinstance(X['data']['habitable_surface'], (int, float)):\n",
    "        print('Check your data. Expected \"habitable_surface\" to be an integer or a float.')\n",
    "        return None\n",
    "    \n",
    "    if not isinstance(X['data']['bathroom_number'], int):\n",
    "        print('Check your data. Expected \"bathroom_number\" to be an integer.')\n",
    "        return None\n",
    "    \n",
    "    if not 0 <= X['data']['condition'] <= 5:\n",
    "        print('Check your data. Expected \"condition\" to be an integer from 0 to 5.')\n",
    "        return None\n",
    "    \n",
    "    X_values = list(X['data'].values())\n",
    "    X_array = np.array(X_values)\n",
    "    return X_array\n",
    "\n",
    "\n",
    "X_pred_pr = processing(X_json)\n",
    "\n",
    "print(X_pred_pr)"
   ]
  },
  {
   "cell_type": "markdown",
   "metadata": {},
   "source": [
    "Prediction: open regressor file"
   ]
  },
  {
   "cell_type": "code",
   "execution_count": 17,
   "metadata": {},
   "outputs": [
    {
     "data": {
      "text/html": [
       "<style>#sk-container-id-3 {color: black;}#sk-container-id-3 pre{padding: 0;}#sk-container-id-3 div.sk-toggleable {background-color: white;}#sk-container-id-3 label.sk-toggleable__label {cursor: pointer;display: block;width: 100%;margin-bottom: 0;padding: 0.3em;box-sizing: border-box;text-align: center;}#sk-container-id-3 label.sk-toggleable__label-arrow:before {content: \"▸\";float: left;margin-right: 0.25em;color: #696969;}#sk-container-id-3 label.sk-toggleable__label-arrow:hover:before {color: black;}#sk-container-id-3 div.sk-estimator:hover label.sk-toggleable__label-arrow:before {color: black;}#sk-container-id-3 div.sk-toggleable__content {max-height: 0;max-width: 0;overflow: hidden;text-align: left;background-color: #f0f8ff;}#sk-container-id-3 div.sk-toggleable__content pre {margin: 0.2em;color: black;border-radius: 0.25em;background-color: #f0f8ff;}#sk-container-id-3 input.sk-toggleable__control:checked~div.sk-toggleable__content {max-height: 200px;max-width: 100%;overflow: auto;}#sk-container-id-3 input.sk-toggleable__control:checked~label.sk-toggleable__label-arrow:before {content: \"▾\";}#sk-container-id-3 div.sk-estimator input.sk-toggleable__control:checked~label.sk-toggleable__label {background-color: #d4ebff;}#sk-container-id-3 div.sk-label input.sk-toggleable__control:checked~label.sk-toggleable__label {background-color: #d4ebff;}#sk-container-id-3 input.sk-hidden--visually {border: 0;clip: rect(1px 1px 1px 1px);clip: rect(1px, 1px, 1px, 1px);height: 1px;margin: -1px;overflow: hidden;padding: 0;position: absolute;width: 1px;}#sk-container-id-3 div.sk-estimator {font-family: monospace;background-color: #f0f8ff;border: 1px dotted black;border-radius: 0.25em;box-sizing: border-box;margin-bottom: 0.5em;}#sk-container-id-3 div.sk-estimator:hover {background-color: #d4ebff;}#sk-container-id-3 div.sk-parallel-item::after {content: \"\";width: 100%;border-bottom: 1px solid gray;flex-grow: 1;}#sk-container-id-3 div.sk-label:hover label.sk-toggleable__label {background-color: #d4ebff;}#sk-container-id-3 div.sk-serial::before {content: \"\";position: absolute;border-left: 1px solid gray;box-sizing: border-box;top: 0;bottom: 0;left: 50%;z-index: 0;}#sk-container-id-3 div.sk-serial {display: flex;flex-direction: column;align-items: center;background-color: white;padding-right: 0.2em;padding-left: 0.2em;position: relative;}#sk-container-id-3 div.sk-item {position: relative;z-index: 1;}#sk-container-id-3 div.sk-parallel {display: flex;align-items: stretch;justify-content: center;background-color: white;position: relative;}#sk-container-id-3 div.sk-item::before, #sk-container-id-3 div.sk-parallel-item::before {content: \"\";position: absolute;border-left: 1px solid gray;box-sizing: border-box;top: 0;bottom: 0;left: 50%;z-index: -1;}#sk-container-id-3 div.sk-parallel-item {display: flex;flex-direction: column;z-index: 1;position: relative;background-color: white;}#sk-container-id-3 div.sk-parallel-item:first-child::after {align-self: flex-end;width: 50%;}#sk-container-id-3 div.sk-parallel-item:last-child::after {align-self: flex-start;width: 50%;}#sk-container-id-3 div.sk-parallel-item:only-child::after {width: 0;}#sk-container-id-3 div.sk-dashed-wrapped {border: 1px dashed gray;margin: 0 0.4em 0.5em 0.4em;box-sizing: border-box;padding-bottom: 0.4em;background-color: white;}#sk-container-id-3 div.sk-label label {font-family: monospace;font-weight: bold;display: inline-block;line-height: 1.2em;}#sk-container-id-3 div.sk-label-container {text-align: center;}#sk-container-id-3 div.sk-container {/* jupyter's `normalize.less` sets `[hidden] { display: none; }` but bootstrap.min.css set `[hidden] { display: none !important; }` so we also need the `!important` here to be able to override the default hidden behavior on the sphinx rendered scikit-learn.org. See: https://github.com/scikit-learn/scikit-learn/issues/21755 */display: inline-block !important;position: relative;}#sk-container-id-3 div.sk-text-repr-fallback {display: none;}</style><div id=\"sk-container-id-3\" class=\"sk-top-container\"><div class=\"sk-text-repr-fallback\"><pre>XGBRegressor(base_score=None, booster=None, callbacks=None,\n",
       "             colsample_bylevel=None, colsample_bynode=None,\n",
       "             colsample_bytree=None, early_stopping_rounds=None,\n",
       "             enable_categorical=False, eval_metric=None, feature_types=None,\n",
       "             gamma=None, gpu_id=None, grow_policy=None, importance_type=None,\n",
       "             interaction_constraints=None, learning_rate=None, max_bin=None,\n",
       "             max_cat_threshold=None, max_cat_to_onehot=None,\n",
       "             max_delta_step=None, max_depth=None, max_leaves=None,\n",
       "             min_child_weight=None, missing=nan, monotone_constraints=None,\n",
       "             n_estimators=10, n_jobs=None, num_parallel_tree=None,\n",
       "             predictor=None, random_state=None, ...)</pre><b>In a Jupyter environment, please rerun this cell to show the HTML representation or trust the notebook. <br />On GitHub, the HTML representation is unable to render, please try loading this page with nbviewer.org.</b></div><div class=\"sk-container\" hidden><div class=\"sk-item\"><div class=\"sk-estimator sk-toggleable\"><input class=\"sk-toggleable__control sk-hidden--visually\" id=\"sk-estimator-id-3\" type=\"checkbox\" checked><label for=\"sk-estimator-id-3\" class=\"sk-toggleable__label sk-toggleable__label-arrow\">XGBRegressor</label><div class=\"sk-toggleable__content\"><pre>XGBRegressor(base_score=None, booster=None, callbacks=None,\n",
       "             colsample_bylevel=None, colsample_bynode=None,\n",
       "             colsample_bytree=None, early_stopping_rounds=None,\n",
       "             enable_categorical=False, eval_metric=None, feature_types=None,\n",
       "             gamma=None, gpu_id=None, grow_policy=None, importance_type=None,\n",
       "             interaction_constraints=None, learning_rate=None, max_bin=None,\n",
       "             max_cat_threshold=None, max_cat_to_onehot=None,\n",
       "             max_delta_step=None, max_depth=None, max_leaves=None,\n",
       "             min_child_weight=None, missing=nan, monotone_constraints=None,\n",
       "             n_estimators=10, n_jobs=None, num_parallel_tree=None,\n",
       "             predictor=None, random_state=None, ...)</pre></div></div></div></div></div>"
      ],
      "text/plain": [
       "XGBRegressor(base_score=None, booster=None, callbacks=None,\n",
       "             colsample_bylevel=None, colsample_bynode=None,\n",
       "             colsample_bytree=None, early_stopping_rounds=None,\n",
       "             enable_categorical=False, eval_metric=None, feature_types=None,\n",
       "             gamma=None, gpu_id=None, grow_policy=None, importance_type=None,\n",
       "             interaction_constraints=None, learning_rate=None, max_bin=None,\n",
       "             max_cat_threshold=None, max_cat_to_onehot=None,\n",
       "             max_delta_step=None, max_depth=None, max_leaves=None,\n",
       "             min_child_weight=None, missing=nan, monotone_constraints=None,\n",
       "             n_estimators=10, n_jobs=None, num_parallel_tree=None,\n",
       "             predictor=None, random_state=None, ...)"
      ]
     },
     "metadata": {},
     "output_type": "display_data"
    }
   ],
   "source": [
    "def open_reg():\n",
    "    if X_pred_pr[0] == 'apartment':\n",
    "        path_open_pickle_apart = Path.cwd().parent.parent / \"models\" / \"xgbr_apart.pickle\"\n",
    "        with open(path_open_pickle_apart, 'rb') as file:\n",
    "            reg_apart = pickle.load(file)\n",
    "        return reg_apart\n",
    "    else:\n",
    "        path_open_pickle_houses = Path.cwd().parent.parent / \"models\" / \\\n",
    "            \"xgbr_houses.pickle\"\n",
    "        with open(path_open_pickle_houses, 'rb') as file:\n",
    "            reg_houses = pickle.load(file)\n",
    "        return reg_houses\n",
    "\n",
    "\n",
    "xgbr = open_reg()\n",
    "display(xgbr)"
   ]
  },
  {
   "cell_type": "markdown",
   "metadata": {},
   "source": [
    "prediction: making a predition, converting into json file"
   ]
  },
  {
   "cell_type": "code",
   "execution_count": 18,
   "metadata": {},
   "outputs": [
    {
     "data": {
      "text/plain": [
       "'{\"prediction\": 142827.42, \"status_code\": 200}'"
      ]
     },
     "metadata": {},
     "output_type": "display_data"
    }
   ],
   "source": [
    "def predict_new(X, reg):\n",
    "    X = np.array(X)[1:]\n",
    "    X = X.astype(np.float64)\n",
    "    X = X.reshape(1, -1)\n",
    "    y_pred_array = reg.predict(X)\n",
    "    y_pred_dic = {\n",
    "        \"prediction\": round(float(y_pred_array[0]), 2),\n",
    "        \"status_code\": 200,\n",
    "    }\n",
    "    y_pred_json = json.dumps(y_pred_dic)\n",
    "    return y_pred_json\n",
    "\n",
    "\n",
    "y_pred = predict_new(X_pred_pr, xgbr)\n",
    "\n",
    "display(y_pred)"
   ]
  },
  {
   "cell_type": "markdown",
   "metadata": {},
   "source": [
    "Creating app and class"
   ]
  },
  {
   "cell_type": "code",
   "execution_count": 19,
   "metadata": {},
   "outputs": [],
   "source": [
    "app = FastAPI()\n",
    "\n",
    "class PropertyData(BaseModel):\n",
    "    property_type: str\n",
    "    floor: int\n",
    "    bedrooms_number: int\n",
    "    habitable_surface: float\n",
    "    bathroom_number: int\n",
    "    condition: int\n",
    "\n",
    "class InputData(BaseModel):\n",
    "    data: PropertyData"
   ]
  },
  {
   "cell_type": "markdown",
   "metadata": {},
   "source": [
    "Making the get request"
   ]
  },
  {
   "cell_type": "code",
   "execution_count": 20,
   "metadata": {},
   "outputs": [
    {
     "name": "stdout",
     "output_type": "stream",
     "text": [
      "This is an API for price prediction for Belgian real estate.\n",
      "\n",
      "This model is built on base of trained data of more that 15000 Belgian real estate properties both apartments and \n",
      "houses using XGBoos regressor.\n",
      "To make a prediction of a property price you need to input data in JSON format as follows:\n",
      "\n",
      "{\"data\":\n",
      "    {\"property_type\": string. Expected \"House\" or \"Apartment\",\n",
      "    \"floor\": integer,\n",
      "    \"bedrooms_number\": integer,\n",
      "    \"habitable_surface\": float,\n",
      "    \"bathroom_number\":integer,\n",
      "    \"condition\": integer. Expected from 0 to 5. O - very bad condition, to be done up, 5 - new.\n",
      "        }\n",
      "            } \n"
     ]
    }
   ],
   "source": [
    "@app.get('/')\n",
    "def whatever_func():\n",
    "    text = '''This is an API for price prediction for Belgian real estate.\\n\n",
    "This model is built on base of trained data of more that 15000 Belgian real estate properties both apartments and \n",
    "houses using XGBoos regressor.\\nTo make a prediction of a property price you need to input data in JSON format as follows:\\n\n",
    "{\"data\":\n",
    "    {\"property_type\": string. Expected \"House\" or \"Apartment\",\n",
    "    \"floor\": integer,\n",
    "    \"bedrooms_number\": integer,\n",
    "    \"habitable_surface\": float,\n",
    "    \"bathroom_number\":integer,\n",
    "    \"condition\": integer. Expected from 0 to 5. O - very bad condition, to be done up, 5 - new.\n",
    "        }\n",
    "            } '''\n",
    "    return text\n",
    "\n",
    "x = whatever_func()\n",
    "print(x)"
   ]
  },
  {
   "cell_type": "markdown",
   "metadata": {},
   "source": [
    "Making the post request"
   ]
  },
  {
   "cell_type": "code",
   "execution_count": 21,
   "metadata": {},
   "outputs": [
    {
     "name": "stdout",
     "output_type": "stream",
     "text": [
      "{\"prediction\": 142827.42, \"status_code\": 200}\n"
     ]
    }
   ],
   "source": [
    "@app.post('/calc')\n",
    "async def predict_price(data: InputData):\n",
    "    X_pred_pr = processing(data)\n",
    "    xgbr = open_reg(X_pred_pr)\n",
    "    y_pred = predict_new(X_pred_pr, xgbr)\n",
    "    return y_pred\n",
    "\n",
    "print(y_pred)"
   ]
  }
 ],
 "metadata": {
  "kernelspec": {
   "display_name": "ImmoElizaAnalysis_Env",
   "language": "python",
   "name": "python3"
  },
  "language_info": {
   "codemirror_mode": {
    "name": "ipython",
    "version": 3
   },
   "file_extension": ".py",
   "mimetype": "text/x-python",
   "name": "python",
   "nbconvert_exporter": "python",
   "pygments_lexer": "ipython3",
   "version": "3.11.4"
  },
  "orig_nbformat": 4
 },
 "nbformat": 4,
 "nbformat_minor": 2
}
